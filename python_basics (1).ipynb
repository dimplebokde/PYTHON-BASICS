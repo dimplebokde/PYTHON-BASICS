{
  "nbformat": 4,
  "nbformat_minor": 0,
  "metadata": {
    "colab": {
      "provenance": []
    },
    "kernelspec": {
      "name": "python3",
      "display_name": "Python 3"
    },
    "language_info": {
      "name": "python"
    }
  },
  "cells": [
    {
      "cell_type": "markdown",
      "source": [
        "1.What is Python, and why is it popular ?\n",
        "\n",
        "-> Python is a set of rules and symbols that is used to give instrucations to computer.there are varied of reasons for the popularity of  python such as numerioes of libraries, a lot of used in data industrty, easily readable not only versataliy but also a huge active community. as well as has multiple platforms such front end devolper, data Analysis, machine learning.\n",
        "\n",
        "2. What is an interpreter in Python ?\n",
        "\n",
        "-> An interpreter in Python is a program that executes Python code directly, translating it into machine code line by line or statement by statement.\n",
        "\n",
        "3. What are pre-defined keywords in Python ?\n",
        "\n",
        "-> In Python, predefined keywords (also known as reserved words) are special words that have specific meanings and purposes in the language. These keywords are  variable names, function names, or class names) because they are reserved for the language's syntax and functionality.\n",
        "\n",
        "\n",
        "False,\n",
        "None,\n",
        "True,,\n",
        "and,\n",
        "as,\n",
        "assert,\n",
        "async,\n",
        "await,\n",
        "break,\n",
        "class,\n",
        "continue,\n",
        "def,\n",
        "del,\n",
        "elif,\n",
        "else,\n",
        "except,\n",
        "finally,\n",
        "for,\n",
        "from,\n",
        "global,\n",
        "if,\n",
        "import,\n",
        "in,\n",
        "is,\n",
        "lambda,\n",
        "nonlocal,\n",
        "not,\n",
        "or,\n",
        "pass,\n",
        "raise,\n",
        "return,\n",
        "try,\n",
        "while,\n",
        "with,\n",
        "yield.\n",
        "\n",
        "4. Can keywords be used as variable names ?\n",
        "\n",
        "-> No, keywords in Python cannot be used as variable names\n",
        "\n",
        "5. What is mutability in Python ?\n",
        "\n",
        "->object whose state or valve can be changed after created are called mutalbe objects.\n",
        "\n",
        "6. Why are lists mutable, but tuples are immutable ?\n",
        "\n",
        "->lists are mutable to allow for dynamic changes and flexibility, making them suitable for collections that need to be modified. Tuples are immutable to provide a fixed, stable collection of items, which can enhance performance, safety, and clarity in code.\n",
        "\n",
        "7. What is the difference between “==” and “is” operators in Python ?\n",
        "\n",
        " -> use == when you want to compare the values of two objects.\n",
        "\n",
        "Use is when you want to check if two variables point to the same object in memory.\n",
        "\n",
        "8.What are logical operators in Python ?\n",
        "\n",
        "-> logical AND, logical OR and logical not (NOT) are logical operators in python.\n",
        "\n",
        "9. What is type casting in Python ?\n",
        "\n",
        "-> Type casting in Python refers to the process of converting a variable from one data type to another.\n",
        "\n",
        "10. What is the difference between implicit and explicit type casting ?\n",
        "\n",
        "-> Implicit type casting, also known as automatic type conversion, occurs when the compiler automatically converts one data type to another without any explicit instruction from the programmer. explicit typecasting  convert data type using inbuilt functiond such as string, integer, float, booleen.\n",
        "\n",
        "11.What is the purpose of conditional statements in Python ?\n",
        "\n",
        "-> Conditional statements in Python are used to execute specific blocks of code based on certain conditions. They allow the program to make decisions and control the flow of execution, enabling it to respond differently to different inputs or situations.\n",
        "\n",
        "12.How does the elif statement work ?\n",
        "\n",
        "-> The elif statement in Python is a way to check multiple conditions in a sequence. It stands for \"else if\" and is used in conjunction with \"if\" and \"else\" statements to create a chain of conditional checks. This allows you to execute different blocks of code based on which condition is true.\n",
        "\n",
        "13. What is the difference between for and while loops ?\n",
        "\n",
        "-> loop statement  allows to execute a block of code repeatedly, Meanwhile, loops iterate over a sequence of elements  such as strings, list.\n",
        "\n",
        "14.Describe a scenario where a while loop is more suitable than a for loop\n",
        "\n",
        "-> a 'while' loop is more suitable than a for loop in situations where the number of iterations is not known beforehand and depends on a condition that may change during the execution of the loop."
      ],
      "metadata": {
        "id": "g9QLa00cwzV-"
      }
    },
    {
      "cell_type": "markdown",
      "source": [
        "#pratical questions\n",
        "\n",
        "1.Write a Python program to print \"Hello, World!\n",
        "\n",
        "\n"
      ],
      "metadata": {
        "id": "m2__qq2ZM66p"
      }
    },
    {
      "cell_type": "code",
      "source": [
        "print(\"hello world!!\")\n"
      ],
      "metadata": {
        "colab": {
          "base_uri": "https://localhost:8080/"
        },
        "id": "26BnwQ2mNM9L",
        "outputId": "13b0aba0-d731-4d99-a761-480820060f73"
      },
      "execution_count": null,
      "outputs": [
        {
          "output_type": "stream",
          "name": "stdout",
          "text": [
            "hello world!!\n"
          ]
        }
      ]
    },
    {
      "cell_type": "markdown",
      "source": [
        "2.Write a Python program that displays your name and age"
      ],
      "metadata": {
        "id": "A3L8zlilPNV-"
      }
    },
    {
      "cell_type": "code",
      "source": [
        "name = \"dimple\"\n",
        "name"
      ],
      "metadata": {
        "colab": {
          "base_uri": "https://localhost:8080/",
          "height": 35
        },
        "id": "vUBai7IaPa-f",
        "outputId": "c6785cca-002e-48f0-c583-4b63a1612ac1"
      },
      "execution_count": null,
      "outputs": [
        {
          "output_type": "execute_result",
          "data": {
            "text/plain": [
              "'dimple'"
            ],
            "application/vnd.google.colaboratory.intrinsic+json": {
              "type": "string"
            }
          },
          "metadata": {},
          "execution_count": 4
        }
      ]
    },
    {
      "cell_type": "code",
      "source": [
        "age = \"21\"\n",
        "age"
      ],
      "metadata": {
        "colab": {
          "base_uri": "https://localhost:8080/",
          "height": 35
        },
        "id": "qT0cg9fGP88E",
        "outputId": "e896f5f6-adea-425f-fa80-ce5e98d2da6e"
      },
      "execution_count": null,
      "outputs": [
        {
          "output_type": "execute_result",
          "data": {
            "text/plain": [
              "'21'"
            ],
            "application/vnd.google.colaboratory.intrinsic+json": {
              "type": "string"
            }
          },
          "metadata": {},
          "execution_count": 6
        }
      ]
    },
    {
      "cell_type": "markdown",
      "source": [
        "3.Write code to print all the pre-defined keywords in Python using the keyword library"
      ],
      "metadata": {
        "id": "GzZpq7XZQGKs"
      }
    },
    {
      "cell_type": "code",
      "source": [
        "help(\"keywords\")"
      ],
      "metadata": {
        "colab": {
          "base_uri": "https://localhost:8080/"
        },
        "id": "KAHPV0yFQA8x",
        "outputId": "19f96169-72e6-4166-8031-0aa2fc51a2b2"
      },
      "execution_count": null,
      "outputs": [
        {
          "output_type": "stream",
          "name": "stdout",
          "text": [
            "\n",
            "Here is a list of the Python keywords.  Enter any keyword to get more help.\n",
            "\n",
            "False               class               from                or\n",
            "None                continue            global              pass\n",
            "True                def                 if                  raise\n",
            "and                 del                 import              return\n",
            "as                  elif                in                  try\n",
            "assert              else                is                  while\n",
            "async               except              lambda              with\n",
            "await               finally             nonlocal            yield\n",
            "break               for                 not                 \n",
            "\n"
          ]
        }
      ]
    },
    {
      "cell_type": "markdown",
      "source": [
        "4.Write a program that checks if a given word is a Python keyword"
      ],
      "metadata": {
        "id": "1HPXr3C8QfL5"
      }
    },
    {
      "cell_type": "code",
      "source": [
        "import keyword\n",
        "\n",
        "def check_if_keyword():\n",
        "\n",
        "    word = input(\"Enter a word to check if it's a Python keyword: \")\n",
        "\n",
        "\n",
        "    if keyword.iskeyword(word):\n",
        "        print(f'\"{word}\" is a Python keyword.')\n",
        "    else:\n",
        "        print(f'\"{word}\" is not a Python keyword.')\n",
        "\n",
        "\n",
        "check_if_keyword()"
      ],
      "metadata": {
        "colab": {
          "base_uri": "https://localhost:8080/"
        },
        "id": "1f-_HhqsBxnS",
        "outputId": "75e5c451-4743-4a83-b374-df7535200ea2"
      },
      "execution_count": 25,
      "outputs": [
        {
          "output_type": "stream",
          "name": "stdout",
          "text": [
            "Enter a word to check if it's a Python keyword: dimple\n",
            "\"dimple\" is not a Python keyword.\n"
          ]
        }
      ]
    },
    {
      "cell_type": "markdown",
      "source": [
        "5.Create a list and tuple in Python, and demonstrate how attempting to change an element works differently\n",
        "for each."
      ],
      "metadata": {
        "id": "tLGhoy_yCGL_"
      }
    },
    {
      "cell_type": "code",
      "source": [
        "list_cont = [1,2,3,4,5]\n",
        "list_cont"
      ],
      "metadata": {
        "colab": {
          "base_uri": "https://localhost:8080/"
        },
        "id": "4r38F_qvAoFh",
        "outputId": "6da5f420-a6cb-425d-f619-b3635b147a25"
      },
      "execution_count": null,
      "outputs": [
        {
          "output_type": "execute_result",
          "data": {
            "text/plain": [
              "[1, 2, 3, 4, 5]"
            ]
          },
          "metadata": {},
          "execution_count": 11
        }
      ]
    },
    {
      "cell_type": "code",
      "source": [
        "list_cont[2] = \"100\"\n",
        "list_cont\n"
      ],
      "metadata": {
        "colab": {
          "base_uri": "https://localhost:8080/"
        },
        "id": "MzOHOdrnC6EH",
        "outputId": "d888dddf-0e41-452c-829c-bedc73a353e8"
      },
      "execution_count": null,
      "outputs": [
        {
          "output_type": "execute_result",
          "data": {
            "text/plain": [
              "[1, 2, '100', 4, 5]"
            ]
          },
          "metadata": {},
          "execution_count": 13
        }
      ]
    },
    {
      "cell_type": "code",
      "source": [
        "list_cont[-2] = \"60\"\n",
        "list_cont"
      ],
      "metadata": {
        "colab": {
          "base_uri": "https://localhost:8080/"
        },
        "id": "BoNyzYxgDOsH",
        "outputId": "a6e6c7e9-f4bb-49bb-df29-fffbdaf361b5"
      },
      "execution_count": null,
      "outputs": [
        {
          "output_type": "execute_result",
          "data": {
            "text/plain": [
              "[1, 2, '100', '60', 5]"
            ]
          },
          "metadata": {},
          "execution_count": 14
        }
      ]
    },
    {
      "cell_type": "code",
      "source": [
        "my_tuple = [2,4,6,8,10]\n",
        "my_tuple"
      ],
      "metadata": {
        "colab": {
          "base_uri": "https://localhost:8080/"
        },
        "id": "mEU9hSS9DlRb",
        "outputId": "7c730e5e-8a08-4b57-e6b5-5311d4070878"
      },
      "execution_count": null,
      "outputs": [
        {
          "output_type": "execute_result",
          "data": {
            "text/plain": [
              "[2, 4, 6, 8, 10]"
            ]
          },
          "metadata": {},
          "execution_count": 15
        }
      ]
    },
    {
      "cell_type": "code",
      "source": [
        "my_tuple[0] = \"3\"\n",
        "my_tuple\n"
      ],
      "metadata": {
        "colab": {
          "base_uri": "https://localhost:8080/"
        },
        "id": "vLK4M8vHEDfk",
        "outputId": "f93a4351-abec-40cf-d5b5-ded53ba1f008"
      },
      "execution_count": null,
      "outputs": [
        {
          "output_type": "execute_result",
          "data": {
            "text/plain": [
              "['3', 4, 6, 8, 10]"
            ]
          },
          "metadata": {},
          "execution_count": 16
        }
      ]
    },
    {
      "cell_type": "code",
      "source": [
        "my_tuple[-3] = \"12\"\n",
        "my_tuple"
      ],
      "metadata": {
        "colab": {
          "base_uri": "https://localhost:8080/"
        },
        "id": "qgS2XkISEWhA",
        "outputId": "f2524cb6-8c8c-4f47-9e9d-22c0a5c1fe34"
      },
      "execution_count": null,
      "outputs": [
        {
          "output_type": "execute_result",
          "data": {
            "text/plain": [
              "['3', 4, '12', 8, 10]"
            ]
          },
          "metadata": {},
          "execution_count": 17
        }
      ]
    },
    {
      "cell_type": "markdown",
      "source": [
        "6.Write a function to demonstrate the behavior of mutable and immutable arguments"
      ],
      "metadata": {
        "id": "Wgy9cPNhEmZ8"
      }
    },
    {
      "cell_type": "code",
      "source": [
        "def demonstrate_mutable_immutable(mutable_arg, immutable_arg):\n",
        "    print(\"Before modification:\")\n",
        "    print(f\"Mutable argument (list): {mutable_arg}\")\n",
        "    print(f\"Immutable argument (string): {immutable_arg}\")\n",
        "\n",
        "\n",
        "    mutable_arg.append(100)\n",
        "    print(\"\\nAfter modifying the mutable argument:\")\n",
        "    print(f\"Mutable argument (list): {mutable_arg}\")\n",
        "\n",
        "\n",
        "    immutable_arg += \" World\"\n",
        "    print(\"\\nAfter attempting to modify the immutable argument:\")\n",
        "    print(f\"Immutable argument (string): {immutable_arg}\")\n",
        "\n",
        "\n",
        "my_list = [1, 2, 3]\n",
        "my_string = \"Hello\"\n",
        "\n",
        "\n",
        "demonstrate_mutable_immutable(my_list, my_string)\n",
        "\n",
        "\n",
        "print(\"\\nOriginal arguments after function call:\")\n",
        "print(f\"Original list: {my_list}\")\n",
        "print(f\"Original string: {my_string}\")\n"
      ],
      "metadata": {
        "colab": {
          "base_uri": "https://localhost:8080/"
        },
        "id": "J7Sd7fFiQIvZ",
        "outputId": "8cc853e0-56bd-41fc-eed9-194d6ed0b1e4"
      },
      "execution_count": 15,
      "outputs": [
        {
          "output_type": "stream",
          "name": "stdout",
          "text": [
            "Before modification:\n",
            "Mutable argument (list): [1, 2, 3]\n",
            "Immutable argument (string): Hello\n",
            "\n",
            "After modifying the mutable argument:\n",
            "Mutable argument (list): [1, 2, 3, 100]\n",
            "\n",
            "After attempting to modify the immutable argument:\n",
            "Immutable argument (string): Hello World\n",
            "\n",
            "Original arguments after function call:\n",
            "Original list: [1, 2, 3, 100]\n",
            "Original string: Hello\n"
          ]
        }
      ]
    },
    {
      "cell_type": "markdown",
      "source": [
        "7. write a program that performs basic arithmetic operations on two user-input numbers\n"
      ],
      "metadata": {
        "id": "q5TFGLKGQg-p"
      }
    },
    {
      "cell_type": "code",
      "source": [
        "def basic_arithmetic_operations():\n",
        "\n",
        "    try:\n",
        "        num1 = float(input(\"Enter the first number: \"))\n",
        "        num2 = float(input(\"Enter the second number: \"))\n",
        "    except ValueError:\n",
        "        print(\"Invalid input! Please enter numeric values.\")\n",
        "        return\n",
        "\n",
        "\n",
        "    addition = num1 + num2\n",
        "    subtraction = num1 - num2\n",
        "    multiplication = num1 * num2\n",
        "\n",
        "\n",
        "    if num2 != 0:\n",
        "        division = num1 / num2\n",
        "    else:\n",
        "        division = \"undefined (cannot divide by zero)\"\n",
        "\n",
        "\n",
        "    print(\"\\nResults:\")\n",
        "    print(f\"Addition: {num1} + {num2} = {addition}\")\n",
        "    print(f\"Subtraction: {num1} - {num2} = {subtraction}\")\n",
        "    print(f\"Multiplication: {num1} * {num2} = {multiplication}\")\n",
        "    print(f\"Division: {num1} / {num2} = {division}\")\n",
        "\n",
        "\n",
        "basic_arithmetic_operations()"
      ],
      "metadata": {
        "colab": {
          "base_uri": "https://localhost:8080/"
        },
        "id": "J9CUSKqTUEUs",
        "outputId": "70d007bb-3942-4be3-a6ef-4642f3d099c4"
      },
      "execution_count": 16,
      "outputs": [
        {
          "output_type": "stream",
          "name": "stdout",
          "text": [
            "Enter the first number: 10\n",
            "Enter the second number: 2\n",
            "\n",
            "Results:\n",
            "Addition: 10.0 + 2.0 = 12.0\n",
            "Subtraction: 10.0 - 2.0 = 8.0\n",
            "Multiplication: 10.0 * 2.0 = 20.0\n",
            "Division: 10.0 / 2.0 = 5.0\n"
          ]
        }
      ]
    },
    {
      "cell_type": "markdown",
      "source": [
        "8. Write a program to demonstrate the use of logical operators"
      ],
      "metadata": {
        "id": "-RPG3m_pVcN9"
      }
    },
    {
      "cell_type": "code",
      "source": [
        "\n",
        "def demonstrate_logical_operators():\n",
        "\n",
        "    print(\"Please enter two boolean values (True or False).\")\n",
        "\n",
        "\n",
        "    first_input = input(\"Enter the first boolean value (True/False): \").strip().lower()\n",
        "    if first_input in ['true', 't', '1']:\n",
        "        first_value = True\n",
        "    elif first_input in ['false', 'f', '0']:\n",
        "        first_value = False\n",
        "    else:\n",
        "        print(\"Invalid input! Please enter True or False.\")\n",
        "        return\n",
        "\n",
        "\n",
        "    second_input = input(\"Enter the second boolean value (True/False): \").strip().lower()\n",
        "    if second_input in ['true', 't', '1']:\n",
        "        second_value = True\n",
        "    elif second_input in ['false', 'f', '0']:\n",
        "        second_value = False\n",
        "    else:\n",
        "        print(\"Invalid input! Please enter True or False.\")\n",
        "        return\n",
        "\n",
        "\n",
        "    print(\"\\nLogical Operations:\")\n",
        "    print(f\"First Value: {first_value}, Second Value: {second_value}\")\n",
        "\n",
        "\n",
        "    and_result = first_value and second_value\n",
        "    print(f\"AND operation: {first_value} and {second_value} = {and_result}\")\n",
        "\n",
        "\n",
        "    or_result = first_value or second_value\n",
        "    print(f\"OR operation: {first_value} or {second_value} = {or_result}\")\n",
        "\n",
        "\n",
        "    not_first = not first_value\n",
        "    not_second = not second_value\n",
        "    print(f\"NOT operation: not {first_value} = {not_first}\")\n",
        "    print(f\"NOT operation: not {second_value} = {not_second}\")\n",
        "\n",
        "\n",
        "demonstrate_logical_operators()"
      ],
      "metadata": {
        "colab": {
          "base_uri": "https://localhost:8080/"
        },
        "id": "WaZGjMMaVKWa",
        "outputId": "03d4029a-d717-4433-be30-909ba95b49d0"
      },
      "execution_count": 17,
      "outputs": [
        {
          "output_type": "stream",
          "name": "stdout",
          "text": [
            "Please enter two boolean values (True or False).\n",
            "Enter the first boolean value (True/False): true\n",
            "Enter the second boolean value (True/False): false\n",
            "\n",
            "Logical Operations:\n",
            "First Value: True, Second Value: False\n",
            "AND operation: True and False = False\n",
            "OR operation: True or False = True\n",
            "NOT operation: not True = False\n",
            "NOT operation: not False = True\n"
          ]
        }
      ]
    },
    {
      "cell_type": "markdown",
      "source": [
        "9.Write a Python program to convert user input from string to integer, float, and boolean types"
      ],
      "metadata": {
        "id": "Q2aUy5vZXIUG"
      }
    },
    {
      "cell_type": "code",
      "source": [
        "def convert_user_input():\n",
        "\n",
        "    user_input = input(\"Enter a value: \")\n",
        "\n",
        "    try:\n",
        "        int_value = int(user_input)\n",
        "        print(f\"Integer conversion: {int_value}\")\n",
        "    except ValueError:\n",
        "        print(\"Invalid input for integer conversion.\")\n",
        "\n",
        "\n",
        "    try:\n",
        "        float_value = float(user_input)\n",
        "        print(f\"Float conversion: {float_value}\")\n",
        "    except ValueError:\n",
        "        print(\"Invalid input for float conversion.\")\n",
        "\n",
        "\n",
        "    if user_input.lower() in ['true', '1', 't', 'yes']:\n",
        "        bool_value = True\n",
        "    elif user_input.lower() in ['false', '0', 'f', 'no']:\n",
        "        bool_value = False\n",
        "    else:\n",
        "        print(\"Invalid input for boolean conversion. Defaulting to False.\")\n",
        "        bool_value = False\n",
        "\n",
        "    print(f\"Boolean conversion: {bool_value}\")\n",
        "\n",
        "\n",
        "convert_user_input()\n"
      ],
      "metadata": {
        "colab": {
          "base_uri": "https://localhost:8080/"
        },
        "id": "mxvbS7zBW_Gb",
        "outputId": "84de1aa1-63c3-493a-bc6f-da98beb314c2"
      },
      "execution_count": 18,
      "outputs": [
        {
          "output_type": "stream",
          "name": "stdout",
          "text": [
            "Enter a value: 55\n",
            "Integer conversion: 55\n",
            "Float conversion: 55.0\n",
            "Invalid input for boolean conversion. Defaulting to False.\n",
            "Boolean conversion: False\n"
          ]
        }
      ]
    },
    {
      "cell_type": "markdown",
      "source": [
        "10.Write code to demonstrate type casting with list elements\n"
      ],
      "metadata": {
        "id": "16UlqoLGXzWp"
      }
    },
    {
      "cell_type": "code",
      "source": [
        "def demonstrate_type_casting():\n",
        "\n",
        "    mixed_list = ['1', '2.5', '3', 4, 5.0, True, 'False']\n",
        "\n",
        "    print(\"Original list:\")\n",
        "    print(mixed_list)\n",
        "\n",
        "\n",
        "    int_list = []\n",
        "    float_list = []\n",
        "    bool_list = []\n",
        "\n",
        "    for element in mixed_list:\n",
        "\n",
        "        try:\n",
        "            int_value = int(float(element))\n",
        "            int_list.append(int_value)\n",
        "        except ValueError:\n",
        "            int_list.append(None)\n",
        "\n",
        "\n",
        "        try:\n",
        "            float_value = float(element)\n",
        "            float_list.append(float_value)\n",
        "        except ValueError:\n",
        "            float_list.append(None)\n",
        "\n",
        "\n",
        "        if str(element).lower() in ['true', '1', 't', 'yes']:\n",
        "            bool_list.append(True)\n",
        "        elif str(element).lower() in ['false', '0', 'f', 'no']:\n",
        "            bool_list.append(False)\n",
        "        else:\n",
        "            bool_list.append(bool(element))\n",
        "\n",
        "\n",
        "    print(\"\\nConverted lists:\")\n",
        "    print(\"Integer List:\", int_list)\n",
        "    print(\"Float List:\", float_list)\n",
        "    print(\"Boolean List:\", bool_list)\n",
        "\n",
        "\n",
        "demonstrate_type_casting()\n"
      ],
      "metadata": {
        "colab": {
          "base_uri": "https://localhost:8080/"
        },
        "id": "LE6j4OuKX5Iy",
        "outputId": "f4bdc11f-a066-4e57-f914-06219efae3c2"
      },
      "execution_count": 19,
      "outputs": [
        {
          "output_type": "stream",
          "name": "stdout",
          "text": [
            "Original list:\n",
            "['1', '2.5', '3', 4, 5.0, True, 'False']\n",
            "\n",
            "Converted lists:\n",
            "Integer List: [1, 2, 3, 4, 5, 1, None]\n",
            "Float List: [1.0, 2.5, 3.0, 4.0, 5.0, 1.0, None]\n",
            "Boolean List: [True, True, True, True, True, True, False]\n"
          ]
        }
      ]
    },
    {
      "cell_type": "markdown",
      "source": [
        "11.Write a program that checks if a number is positive, negative, or zero\n",
        "\n",
        "\n"
      ],
      "metadata": {
        "id": "-_U3NkIrZFao"
      }
    },
    {
      "cell_type": "code",
      "source": [
        "def check_number():\n",
        "\n",
        "    try:\n",
        "        number = float(input(\"Enter a number: \"))\n",
        "    except ValueError:\n",
        "        print(\"Invalid input! Please enter a numeric value.\")\n",
        "        return\n",
        "\n",
        "\n",
        "    if number > 0:\n",
        "        print(\"The number is positive.\")\n",
        "    elif number < 0:\n",
        "        print(\"The number is negative.\")\n",
        "    else:\n",
        "        print(\"The number is zero.\")\n",
        "\n",
        "\n",
        "check_number()\n"
      ],
      "metadata": {
        "colab": {
          "base_uri": "https://localhost:8080/"
        },
        "id": "p6_61pDmXtFq",
        "outputId": "696bb2f0-e3f4-4e12-913b-3a5e3dc6266d"
      },
      "execution_count": 20,
      "outputs": [
        {
          "output_type": "stream",
          "name": "stdout",
          "text": [
            "Enter a number: 2\n",
            "The number is positive.\n"
          ]
        }
      ]
    },
    {
      "cell_type": "markdown",
      "source": [
        "12. Write a for loop to print numbers from 1 to 10\n"
      ],
      "metadata": {
        "id": "LH2LbNg0Ze6B"
      }
    },
    {
      "cell_type": "code",
      "source": [
        "for number in range(1, 11):\n",
        "    print(number)"
      ],
      "metadata": {
        "colab": {
          "base_uri": "https://localhost:8080/"
        },
        "id": "xslU8OMAako5",
        "outputId": "73334f7c-568e-48ce-b9a2-be5e9bbfc757"
      },
      "execution_count": 21,
      "outputs": [
        {
          "output_type": "stream",
          "name": "stdout",
          "text": [
            "1\n",
            "2\n",
            "3\n",
            "4\n",
            "5\n",
            "6\n",
            "7\n",
            "8\n",
            "9\n",
            "10\n"
          ]
        }
      ]
    },
    {
      "cell_type": "markdown",
      "source": [
        "13.Write a Python program to find the sum of all even numbers between 1 and 50\n"
      ],
      "metadata": {
        "id": "3ord4f7XbA-K"
      }
    },
    {
      "cell_type": "code",
      "source": [
        "def sum_of_even_numbers():\n",
        "\n",
        "    total_sum = 0\n",
        "\n",
        "\n",
        "    for number in range(1, 51):\n",
        "\n",
        "        if number % 2 == 0:\n",
        "            total_sum += number\n",
        "\n",
        "    return total_sum\n",
        "\n",
        "result = sum_of_even_numbers()\n",
        "print(\"The sum of all even numbers between 1 and 50 is:\", result)\n"
      ],
      "metadata": {
        "colab": {
          "base_uri": "https://localhost:8080/"
        },
        "id": "ANTMiXqoa_pA",
        "outputId": "cbb3cfcb-6cdd-4f1d-a98a-859ca7577f0c"
      },
      "execution_count": 22,
      "outputs": [
        {
          "output_type": "stream",
          "name": "stdout",
          "text": [
            "The sum of all even numbers between 1 and 50 is: 650\n"
          ]
        }
      ]
    },
    {
      "cell_type": "markdown",
      "source": [
        "2. Write a program to reverse a string using a while loop"
      ],
      "metadata": {
        "id": "661xbC6wbbGC"
      }
    },
    {
      "cell_type": "code",
      "source": [
        "def reverse_string():\n",
        "\n",
        "    user_input = input(\"Enter a string to reverse: \")\n",
        "\n",
        "\n",
        "    reversed_string = \"\"\n",
        "    index = len(user_input) - 1\n",
        "\n",
        "\n",
        "    while index >= 0:\n",
        "        reversed_string += user_input[index]\n",
        "        index -= 1\n",
        "\n",
        "    return reversed_string\n",
        "\n",
        "result = reverse_string()\n",
        "print(\"Reversed string:\", result)"
      ],
      "metadata": {
        "colab": {
          "base_uri": "https://localhost:8080/"
        },
        "id": "XbsXXcbHbdP2",
        "outputId": "cee208aa-393f-497d-e865-839763ff1b8d"
      },
      "execution_count": 23,
      "outputs": [
        {
          "output_type": "stream",
          "name": "stdout",
          "text": [
            "Enter a string to reverse: hello world\n",
            "Reversed string: dlrow olleh\n"
          ]
        }
      ]
    },
    {
      "cell_type": "markdown",
      "source": [
        "15. Write a Python program to calculate the factorial of a number provided by the user using a while loop."
      ],
      "metadata": {
        "id": "HdChyZm8b_nC"
      }
    },
    {
      "cell_type": "code",
      "source": [
        "def calculate_factorial():\n",
        "\n",
        "    try:\n",
        "        number = int(input(\"Enter a non-negative integer to calculate its factorial: \"))\n",
        "        if number < 0:\n",
        "            print(\"Factorial is not defined for negative numbers.\")\n",
        "            return\n",
        "    except ValueError:\n",
        "        print(\"Invalid input! Please enter a non-negative integer.\")\n",
        "        return\n",
        "\n",
        "\n",
        "    factorial = 1\n",
        "    count = 1\n",
        "\n",
        "\n",
        "    while count <= number:\n",
        "        factorial *= count\n",
        "        count += 1\n",
        "\n",
        "    return factorial\n",
        "\n",
        "result = calculate_factorial()\n",
        "if result is not None:\n",
        "    print(\"The factorial is:\", result)"
      ],
      "metadata": {
        "colab": {
          "base_uri": "https://localhost:8080/"
        },
        "id": "Xlt-S74YcTmr",
        "outputId": "fa85cc3d-c2cf-459d-ba92-ef7375cd63f1"
      },
      "execution_count": 24,
      "outputs": [
        {
          "output_type": "stream",
          "name": "stdout",
          "text": [
            "Enter a non-negative integer to calculate its factorial: 5\n",
            "The factorial is: 120\n"
          ]
        }
      ]
    },
    {
      "cell_type": "code",
      "source": [],
      "metadata": {
        "id": "0Y1vo0RvbXCx"
      },
      "execution_count": null,
      "outputs": []
    }
  ]
}